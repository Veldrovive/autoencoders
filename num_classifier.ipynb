{
 "cells": [
  {
   "cell_type": "code",
   "execution_count": 1,
   "metadata": {},
   "outputs": [
    {
     "name": "stderr",
     "output_type": "stream",
     "text": [
      "/home/aidan/anaconda3/envs/py3/lib/python3.5/site-packages/h5py/__init__.py:36: FutureWarning: Conversion of the second argument of issubdtype from `float` to `np.floating` is deprecated. In future, it will be treated as `np.float64 == np.dtype(float).type`.\n",
      "  from ._conv import register_converters as _register_converters\n",
      "Using TensorFlow backend.\n"
     ]
    }
   ],
   "source": [
    "from keras.layers import Dense, Input\n",
    "from keras.optimizers import adam\n",
    "from keras.losses import mse, binary_crossentropy\n",
    "from keras.datasets import mnist\n",
    "from keras.models import Model\n",
    "import keras.backend as K\n",
    "from keras.models import load_model\n",
    "from keras.utils import to_categorical\n",
    "\n",
    "import numpy as np\n",
    "import matplotlib.pyplot as plt"
   ]
  },
  {
   "cell_type": "code",
   "execution_count": 2,
   "metadata": {},
   "outputs": [],
   "source": [
    "from numpy.random import seed\n",
    "seed(13)\n",
    "from tensorflow import set_random_seed\n",
    "set_random_seed(13)"
   ]
  },
  {
   "cell_type": "code",
   "execution_count": 3,
   "metadata": {},
   "outputs": [],
   "source": [
    "(x_train, y_train), (x_test, y_test) = mnist.load_data()\n",
    "\n",
    "num_classes = len(set(y_train))\n",
    "y_train = to_categorical(y_train)\n",
    "y_test = to_categorical(y_test)"
   ]
  },
  {
   "cell_type": "code",
   "execution_count": 4,
   "metadata": {},
   "outputs": [],
   "source": [
    "def process(arr):\n",
    "    arr = arr.reshape((arr.shape[0], arr.shape[1] * arr.shape[2]))\n",
    "    arr = arr.astype('float32') / arr.max()\n",
    "    return arr\n",
    "\n",
    "x_train = process(x_train)\n",
    "x_test = process(x_test)"
   ]
  },
  {
   "cell_type": "code",
   "execution_count": 5,
   "metadata": {},
   "outputs": [],
   "source": [
    "encoder_name = \"encoder_weights_v1_l4_numbers\"\n",
    "input_shape = (x_train.shape[1], )\n",
    "inter_dim = 5\n",
    "latent_dim = 4\n",
    "batch_size = 500\n",
    "epochs = 50"
   ]
  },
  {
   "cell_type": "code",
   "execution_count": 6,
   "metadata": {},
   "outputs": [
    {
     "name": "stderr",
     "output_type": "stream",
     "text": [
      "/home/aidan/anaconda3/envs/py3/lib/python3.5/site-packages/keras/models.py:255: UserWarning: No training configuration found in save file: the model was *not* compiled. Compile it manually.\n",
      "  warnings.warn('No training configuration found in save file: '\n"
     ]
    }
   ],
   "source": [
    "encoder = load_model(\"./encoders/{}\".format(encoder_name))"
   ]
  },
  {
   "cell_type": "code",
   "execution_count": 7,
   "metadata": {},
   "outputs": [],
   "source": [
    "c_input = Input(shape=(latent_dim, ))\n",
    "c_out = Dense(num_classes, activation=\"softmax\")(c_input)\n",
    "\n",
    "classifier = Model(c_input, c_out)"
   ]
  },
  {
   "cell_type": "code",
   "execution_count": 8,
   "metadata": {},
   "outputs": [],
   "source": [
    "model = Model(inputs=encoder.input, outputs=classifier(encoder.output))"
   ]
  },
  {
   "cell_type": "code",
   "execution_count": 9,
   "metadata": {},
   "outputs": [
    {
     "name": "stdout",
     "output_type": "stream",
     "text": [
      "_________________________________________________________________\n",
      "Layer (type)                 Output Shape              Param #   \n",
      "=================================================================\n",
      "input_1 (InputLayer)         (None, 784)               0         \n",
      "_________________________________________________________________\n",
      "dense_1 (Dense)              (None, 432)               339120    \n",
      "_________________________________________________________________\n",
      "dense_2 (Dense)              (None, 432)               187056    \n",
      "_________________________________________________________________\n",
      "dense_3 (Dense)              (None, 4)                 1732      \n",
      "_________________________________________________________________\n",
      "model_1 (Model)              (None, 10)                50        \n",
      "=================================================================\n",
      "Total params: 527,958\n",
      "Trainable params: 527,958\n",
      "Non-trainable params: 0\n",
      "_________________________________________________________________\n"
     ]
    }
   ],
   "source": [
    "model.compile(optimizer=\"adam\", loss=\"categorical_crossentropy\", metrics=['mae', 'acc'])\n",
    "model.summary()"
   ]
  },
  {
   "cell_type": "code",
   "execution_count": 10,
   "metadata": {
    "scrolled": true
   },
   "outputs": [
    {
     "name": "stdout",
     "output_type": "stream",
     "text": [
      "Train on 60000 samples, validate on 10000 samples\n",
      "Epoch 1/50\n",
      "60000/60000 [==============================] - 1s 13us/step - loss: 1.2775 - mean_absolute_error: 0.1112 - acc: 0.4994 - val_loss: 0.8094 - val_mean_absolute_error: 0.0763 - val_acc: 0.5993\n",
      "Epoch 2/50\n",
      "60000/60000 [==============================] - 0s 8us/step - loss: 0.5244 - mean_absolute_error: 0.0550 - acc: 0.7639 - val_loss: 0.2774 - val_mean_absolute_error: 0.0300 - val_acc: 0.9273\n",
      "Epoch 3/50\n",
      "60000/60000 [==============================] - 0s 8us/step - loss: 0.2052 - mean_absolute_error: 0.0215 - acc: 0.9467 - val_loss: 0.1689 - val_mean_absolute_error: 0.0161 - val_acc: 0.9574\n",
      "Epoch 4/50\n",
      "60000/60000 [==============================] - 0s 8us/step - loss: 0.1263 - mean_absolute_error: 0.0129 - acc: 0.9672 - val_loss: 0.1548 - val_mean_absolute_error: 0.0132 - val_acc: 0.9626\n",
      "Epoch 5/50\n",
      "60000/60000 [==============================] - 0s 8us/step - loss: 0.0899 - mean_absolute_error: 0.0096 - acc: 0.9765 - val_loss: 0.1262 - val_mean_absolute_error: 0.0102 - val_acc: 0.9677\n",
      "Epoch 6/50\n",
      "60000/60000 [==============================] - 0s 8us/step - loss: 0.0648 - mean_absolute_error: 0.0073 - acc: 0.9825 - val_loss: 0.1323 - val_mean_absolute_error: 0.0095 - val_acc: 0.9676\n",
      "Epoch 7/50\n",
      "60000/60000 [==============================] - 0s 8us/step - loss: 0.0486 - mean_absolute_error: 0.0057 - acc: 0.9868 - val_loss: 0.1373 - val_mean_absolute_error: 0.0089 - val_acc: 0.9684\n",
      "Epoch 8/50\n",
      "60000/60000 [==============================] - 0s 8us/step - loss: 0.0350 - mean_absolute_error: 0.0043 - acc: 0.9910 - val_loss: 0.1239 - val_mean_absolute_error: 0.0078 - val_acc: 0.9710\n",
      "Epoch 9/50\n",
      "60000/60000 [==============================] - 0s 8us/step - loss: 0.0258 - mean_absolute_error: 0.0033 - acc: 0.9939 - val_loss: 0.1226 - val_mean_absolute_error: 0.0071 - val_acc: 0.9729\n",
      "Epoch 10/50\n",
      "60000/60000 [==============================] - 0s 8us/step - loss: 0.0191 - mean_absolute_error: 0.0025 - acc: 0.9955 - val_loss: 0.1345 - val_mean_absolute_error: 0.0069 - val_acc: 0.9718\n",
      "Epoch 11/50\n",
      "60000/60000 [==============================] - 0s 8us/step - loss: 0.0151 - mean_absolute_error: 0.0021 - acc: 0.9966 - val_loss: 0.1398 - val_mean_absolute_error: 0.0070 - val_acc: 0.9708\n",
      "Epoch 12/50\n",
      "60000/60000 [==============================] - 0s 8us/step - loss: 0.0101 - mean_absolute_error: 0.0014 - acc: 0.9983 - val_loss: 0.1350 - val_mean_absolute_error: 0.0061 - val_acc: 0.9740\n",
      "Epoch 13/50\n",
      "60000/60000 [==============================] - 0s 8us/step - loss: 0.0074 - mean_absolute_error: 0.0010 - acc: 0.9989 - val_loss: 0.1362 - val_mean_absolute_error: 0.0061 - val_acc: 0.9731\n",
      "Epoch 14/50\n",
      "60000/60000 [==============================] - 0s 8us/step - loss: 0.0051 - mean_absolute_error: 7.2749e-04 - acc: 0.9995 - val_loss: 0.1450 - val_mean_absolute_error: 0.0060 - val_acc: 0.9735\n",
      "Epoch 15/50\n",
      "60000/60000 [==============================] - 0s 8us/step - loss: 0.0035 - mean_absolute_error: 4.6597e-04 - acc: 0.9998 - val_loss: 0.1496 - val_mean_absolute_error: 0.0060 - val_acc: 0.9720\n",
      "Epoch 16/50\n",
      "60000/60000 [==============================] - 0s 8us/step - loss: 0.0030 - mean_absolute_error: 3.9048e-04 - acc: 0.9998 - val_loss: 0.1491 - val_mean_absolute_error: 0.0058 - val_acc: 0.9733\n",
      "Epoch 17/50\n",
      "60000/60000 [==============================] - 0s 8us/step - loss: 0.0028 - mean_absolute_error: 3.6309e-04 - acc: 0.9998 - val_loss: 0.1520 - val_mean_absolute_error: 0.0058 - val_acc: 0.9742\n",
      "Epoch 18/50\n",
      "60000/60000 [==============================] - 0s 8us/step - loss: 0.0034 - mean_absolute_error: 4.3673e-04 - acc: 0.9996 - val_loss: 0.1609 - val_mean_absolute_error: 0.0059 - val_acc: 0.9738\n",
      "Epoch 19/50\n",
      "60000/60000 [==============================] - 0s 8us/step - loss: 0.0179 - mean_absolute_error: 0.0018 - acc: 0.9952 - val_loss: 0.1657 - val_mean_absolute_error: 0.0067 - val_acc: 0.9702\n",
      "Epoch 20/50\n",
      "60000/60000 [==============================] - 0s 8us/step - loss: 0.0161 - mean_absolute_error: 0.0017 - acc: 0.9953 - val_loss: 0.1581 - val_mean_absolute_error: 0.0064 - val_acc: 0.9722\n",
      "Epoch 21/50\n",
      "60000/60000 [==============================] - 0s 8us/step - loss: 0.0112 - mean_absolute_error: 0.0013 - acc: 0.9969 - val_loss: 0.1450 - val_mean_absolute_error: 0.0057 - val_acc: 0.9747\n",
      "Epoch 22/50\n",
      "60000/60000 [==============================] - 0s 8us/step - loss: 0.0087 - mean_absolute_error: 9.7360e-04 - acc: 0.9978 - val_loss: 0.1576 - val_mean_absolute_error: 0.0058 - val_acc: 0.9740\n",
      "Epoch 23/50\n",
      "60000/60000 [==============================] - 0s 8us/step - loss: 0.0057 - mean_absolute_error: 6.4444e-04 - acc: 0.9988 - val_loss: 0.1508 - val_mean_absolute_error: 0.0054 - val_acc: 0.9757\n",
      "Epoch 24/50\n",
      "60000/60000 [==============================] - 0s 8us/step - loss: 0.0068 - mean_absolute_error: 7.3918e-04 - acc: 0.9982 - val_loss: 0.1499 - val_mean_absolute_error: 0.0055 - val_acc: 0.9753\n",
      "Epoch 25/50\n",
      "60000/60000 [==============================] - 0s 8us/step - loss: 0.0051 - mean_absolute_error: 5.8713e-04 - acc: 0.9988 - val_loss: 0.1593 - val_mean_absolute_error: 0.0054 - val_acc: 0.9748\n",
      "Epoch 26/50\n",
      "60000/60000 [==============================] - 0s 8us/step - loss: 0.0020 - mean_absolute_error: 1.9918e-04 - acc: 0.9997 - val_loss: 0.1608 - val_mean_absolute_error: 0.0053 - val_acc: 0.9756\n",
      "Epoch 27/50\n",
      "60000/60000 [==============================] - 0s 8us/step - loss: 0.0019 - mean_absolute_error: 1.7169e-04 - acc: 0.9997 - val_loss: 0.1558 - val_mean_absolute_error: 0.0050 - val_acc: 0.9767\n",
      "Epoch 28/50\n",
      "60000/60000 [==============================] - 0s 8us/step - loss: 0.0022 - mean_absolute_error: 1.6801e-04 - acc: 0.9997 - val_loss: 0.1552 - val_mean_absolute_error: 0.0051 - val_acc: 0.9761\n",
      "Epoch 29/50\n",
      "60000/60000 [==============================] - 0s 8us/step - loss: 0.0018 - mean_absolute_error: 1.5875e-04 - acc: 0.9997 - val_loss: 0.1630 - val_mean_absolute_error: 0.0051 - val_acc: 0.9759\n",
      "Epoch 30/50\n",
      "60000/60000 [==============================] - 0s 8us/step - loss: 0.0014 - mean_absolute_error: 1.1377e-04 - acc: 0.9999 - val_loss: 0.1622 - val_mean_absolute_error: 0.0050 - val_acc: 0.9763\n",
      "Epoch 31/50\n",
      "60000/60000 [==============================] - 0s 8us/step - loss: 0.0022 - mean_absolute_error: 1.6825e-04 - acc: 0.9996 - val_loss: 0.1633 - val_mean_absolute_error: 0.0052 - val_acc: 0.9755\n",
      "Epoch 32/50\n",
      "60000/60000 [==============================] - 0s 8us/step - loss: 0.0038 - mean_absolute_error: 3.6634e-04 - acc: 0.9992 - val_loss: 0.1794 - val_mean_absolute_error: 0.0055 - val_acc: 0.9730\n",
      "Epoch 33/50\n",
      "60000/60000 [==============================] - 0s 8us/step - loss: 0.0083 - mean_absolute_error: 7.4478e-04 - acc: 0.9980 - val_loss: 0.1848 - val_mean_absolute_error: 0.0065 - val_acc: 0.9698\n",
      "Epoch 34/50\n",
      "60000/60000 [==============================] - 0s 8us/step - loss: 0.0230 - mean_absolute_error: 0.0019 - acc: 0.9938 - val_loss: 0.1643 - val_mean_absolute_error: 0.0061 - val_acc: 0.9722\n",
      "Epoch 35/50\n",
      "60000/60000 [==============================] - 0s 8us/step - loss: 0.0113 - mean_absolute_error: 0.0011 - acc: 0.9970 - val_loss: 0.1531 - val_mean_absolute_error: 0.0054 - val_acc: 0.9753\n",
      "Epoch 36/50\n",
      "60000/60000 [==============================] - 0s 8us/step - loss: 0.0049 - mean_absolute_error: 4.9836e-04 - acc: 0.9988 - val_loss: 0.1452 - val_mean_absolute_error: 0.0051 - val_acc: 0.9767\n",
      "Epoch 37/50\n",
      "60000/60000 [==============================] - 0s 8us/step - loss: 0.0019 - mean_absolute_error: 1.8173e-04 - acc: 0.9997 - val_loss: 0.1390 - val_mean_absolute_error: 0.0048 - val_acc: 0.9779\n",
      "Epoch 38/50\n",
      "60000/60000 [==============================] - 0s 8us/step - loss: 0.0012 - mean_absolute_error: 6.5294e-05 - acc: 0.9999 - val_loss: 0.1410 - val_mean_absolute_error: 0.0046 - val_acc: 0.9787\n",
      "Epoch 39/50\n",
      "60000/60000 [==============================] - 0s 8us/step - loss: 0.0010 - mean_absolute_error: 4.7998e-05 - acc: 0.9999 - val_loss: 0.1438 - val_mean_absolute_error: 0.0046 - val_acc: 0.9793\n",
      "Epoch 40/50\n",
      "60000/60000 [==============================] - 0s 8us/step - loss: 0.0010 - mean_absolute_error: 3.9704e-05 - acc: 0.9999 - val_loss: 0.1441 - val_mean_absolute_error: 0.0046 - val_acc: 0.9791\n",
      "Epoch 41/50\n"
     ]
    },
    {
     "name": "stdout",
     "output_type": "stream",
     "text": [
      "60000/60000 [==============================] - 0s 8us/step - loss: 9.8159e-04 - mean_absolute_error: 3.4939e-05 - acc: 0.9999 - val_loss: 0.1459 - val_mean_absolute_error: 0.0046 - val_acc: 0.9793\n",
      "Epoch 42/50\n",
      "60000/60000 [==============================] - 0s 8us/step - loss: 9.8886e-04 - mean_absolute_error: 3.2308e-05 - acc: 0.9999 - val_loss: 0.1477 - val_mean_absolute_error: 0.0046 - val_acc: 0.9791\n",
      "Epoch 43/50\n",
      "60000/60000 [==============================] - 0s 8us/step - loss: 9.5540e-04 - mean_absolute_error: 2.9562e-05 - acc: 0.9999 - val_loss: 0.1491 - val_mean_absolute_error: 0.0046 - val_acc: 0.9788\n",
      "Epoch 44/50\n",
      "60000/60000 [==============================] - 0s 8us/step - loss: 9.6122e-04 - mean_absolute_error: 2.9068e-05 - acc: 0.9999 - val_loss: 0.1499 - val_mean_absolute_error: 0.0045 - val_acc: 0.9793\n",
      "Epoch 45/50\n",
      "60000/60000 [==============================] - 0s 8us/step - loss: 9.5624e-04 - mean_absolute_error: 2.7830e-05 - acc: 0.9999 - val_loss: 0.1512 - val_mean_absolute_error: 0.0046 - val_acc: 0.9788\n",
      "Epoch 46/50\n",
      "60000/60000 [==============================] - 0s 8us/step - loss: 9.7204e-04 - mean_absolute_error: 2.6438e-05 - acc: 0.9999 - val_loss: 0.1511 - val_mean_absolute_error: 0.0046 - val_acc: 0.9788\n",
      "Epoch 47/50\n",
      "60000/60000 [==============================] - 0s 8us/step - loss: 9.3564e-04 - mean_absolute_error: 2.5800e-05 - acc: 0.9999 - val_loss: 0.1543 - val_mean_absolute_error: 0.0047 - val_acc: 0.9780\n",
      "Epoch 48/50\n",
      "60000/60000 [==============================] - 0s 8us/step - loss: 9.6741e-04 - mean_absolute_error: 2.5312e-05 - acc: 0.9999 - val_loss: 0.1549 - val_mean_absolute_error: 0.0046 - val_acc: 0.9782\n",
      "Epoch 49/50\n",
      "60000/60000 [==============================] - 0s 8us/step - loss: 9.2896e-04 - mean_absolute_error: 2.4930e-05 - acc: 0.9999 - val_loss: 0.1537 - val_mean_absolute_error: 0.0045 - val_acc: 0.9787\n",
      "Epoch 50/50\n",
      "60000/60000 [==============================] - 0s 8us/step - loss: 9.1996e-04 - mean_absolute_error: 2.3011e-05 - acc: 0.9999 - val_loss: 0.1571 - val_mean_absolute_error: 0.0045 - val_acc: 0.9784\n"
     ]
    }
   ],
   "source": [
    "history = model.fit(\n",
    "    x_train, y_train,\n",
    "    batch_size=batch_size,\n",
    "    epochs=epochs,\n",
    "    shuffle=True,\n",
    "    validation_data=(x_test, y_test)\n",
    ")"
   ]
  },
  {
   "cell_type": "code",
   "execution_count": 11,
   "metadata": {},
   "outputs": [
    {
     "data": {
      "image/png": "[encoded data removed]",
      "text/plain": [
       "<matplotlib.figure.Figure at 0x7fe8141fd3c8>"
      ]
     },
     "metadata": {},
     "output_type": "display_data"
    },
    {
     "data": {
      "image/png": "[encoded data removed]",
      "text/plain": [
       "<matplotlib.figure.Figure at 0x7fe8141f42b0>"
      ]
     },
     "metadata": {},
     "output_type": "display_data"
    }
   ],
   "source": [
    "plt.plot(history.history['acc'])\n",
    "plt.plot(history.history['val_acc'])\n",
    "plt.title('model accuracy')\n",
    "plt.ylabel('accuracy')\n",
    "plt.xlabel('epoch')\n",
    "plt.legend(['train', 'test'], loc='upper left')\n",
    "plt.show()\n",
    "# summarize history for loss\n",
    "plt.plot(history.history['loss'])\n",
    "plt.plot(history.history['val_loss'])\n",
    "plt.title('model loss')\n",
    "plt.ylabel('loss')\n",
    "plt.xlabel('epoch')\n",
    "plt.legend(['train', 'test'], loc='upper left')\n",
    "plt.show()"
   ]
  },
  {
   "cell_type": "code",
   "execution_count": 12,
   "metadata": {},
   "outputs": [],
   "source": [
    "def predict(index):\n",
    "    img = x_test[index]\n",
    "    actual = list(y_test[index]).index(1)\n",
    "    out = model.predict(img.reshape(1, img.shape[0]))[0]\n",
    "    prediction = list(out).index(out.max())\n",
    "    return img.reshape(28, 28), actual, prediction"
   ]
  },
  {
   "cell_type": "code",
   "execution_count": 13,
   "metadata": {},
   "outputs": [],
   "source": [
    "incorrect_indexes = []\n",
    "num_correct = 0\n",
    "for i in range(len(x_test)):\n",
    "    img, actual, prediction = predict(i)\n",
    "    if actual == prediction:\n",
    "        num_correct += 1\n",
    "    else:\n",
    "        incorrect_indexes.append(i)"
   ]
  },
  {
   "cell_type": "code",
   "execution_count": 14,
   "metadata": {},
   "outputs": [
    {
     "name": "stdout",
     "output_type": "stream",
     "text": [
      "Percent Correct: 97.84\n"
     ]
    }
   ],
   "source": [
    "print(\"Percent Correct: {}\".format((num_correct/len(x_test))*100))"
   ]
  },
  {
   "cell_type": "code",
   "execution_count": 15,
   "metadata": {},
   "outputs": [
    {
     "name": "stdout",
     "output_type": "stream",
     "text": [
      "[43, 149, 241, 247, 321, 324, 340, 445, 495, 578, 582, 659, 684, 691, 720, 726, 740, 813, 839, 900, 938, 947, 951, 956, 1014, 1039, 1112, 1156, 1181, 1182, 1224, 1226, 1232, 1242, 1247, 1299, 1319, 1364, 1393, 1425, 1444, 1500, 1527, 1530, 1549, 1553, 1554, 1609, 1641, 1681, 1717, 1751, 1782, 1790, 1823, 1828, 1878, 1901, 1903, 1941, 2004, 2053, 2070, 2073, 2109, 2129, 2135, 2185, 2293, 2299, 2326, 2369, 2387, 2406, 2422, 2433, 2462, 2488, 2597, 2648, 2654, 2720, 2721, 2730, 2742, 2778, 2877, 2915, 2921, 2927, 2930, 2939, 2953, 2995, 3005, 3060, 3073, 3117, 3336, 3405, 3422, 3475, 3503, 3520, 3542, 3558, 3567, 3597, 3604, 3629, 3767, 3780, 3796, 3808, 3811, 3838, 3869, 3893, 3906, 3941, 3943, 3976, 4027, 4065, 4075, 4123, 4176, 4199, 4201, 4248, 4265, 4271, 4289, 4294, 4350, 4360, 4497, 4500, 4536, 4551, 4601, 4639, 4699, 4761, 4807, 4814, 4823, 4876, 4879, 4880, 4943, 4956, 5078, 5138, 5140, 5331, 5457, 5642, 5734, 5749, 5888, 5936, 5937, 5955, 5973, 5997, 6042, 6166, 6173, 6555, 6560, 6574, 6576, 6597, 6625, 6632, 6641, 6651, 6755, 6783, 6847, 7216, 7451, 7928, 8059, 8062, 8094, 8277, 8325, 8339, 8520, 8527, 9009, 9012, 9015, 9019, 9024, 9280, 9587, 9634, 9664, 9692, 9729, 9745, 9749, 9768, 9770, 9792, 9793, 9839, 9850, 9858, 9904, 9925, 9944, 9975]\n"
     ]
    }
   ],
   "source": [
    "print(incorrect_indexes)"
   ]
  },
  {
   "cell_type": "code",
   "execution_count": 16,
   "metadata": {},
   "outputs": [],
   "source": [
    "current_index = 0"
   ]
  },
  {
   "cell_type": "markdown",
   "metadata": {},
   "source": [
    "## Funny Ones:\n",
    "2109: A three? Really?\n",
    "\n",
    "247: This is definitly just an H\n",
    "\n",
    "324: A pair of pants?\n",
    "\n",
    "582: A guy with no head walking around?\n",
    "\n",
    "684: Hey, a sword\n",
    "\n",
    "1393: A fish hook is apparently a 5\n",
    "\n",
    "1527: Oh cool, a microscope\n",
    "\n",
    "1549: Hey, another H\n",
    "\n",
    "1790: Oh scary, a snake\n",
    "\n",
    "2018: This almost looks like a gun\n",
    "\n",
    "2266: Another microscope?\n",
    "\n",
    "2654: And a tentacle\n",
    "\n",
    "3062: Lowercase Delta\n",
    "\n",
    "3780: Does everyone write fours as Hs?\n",
    "\n",
    "3941: Yes, everyone does\n",
    "\n",
    "4294: Why is the 9 doing a back bend?\n",
    "\n",
    "4497: Ooo, a watergun\n",
    "\n",
    "5078: This could be a cool fountain, or maybe it's steam\n",
    "\n",
    "I cant go on anymore, I got to 5138"
   ]
  },
  {
   "cell_type": "code",
   "execution_count": 21,
   "metadata": {},
   "outputs": [
    {
     "name": "stdout",
     "output_type": "stream",
     "text": [
      "This is index 321\n",
      "Model predicted 6, but it was actually 4\n"
     ]
    },
    {
     "data": {
      "image/png": "[encoded data removed]",
      "text/plain": [
       "<matplotlib.figure.Figure at 0x7fe8141f4048>"
      ]
     },
     "metadata": {},
     "output_type": "display_data"
    }
   ],
   "source": [
    "img, actual, prediction = predict(incorrect_indexes[current_index])\n",
    "img, actual, prediction = predict(2266)\n",
    "print(\"This is index {}\".format(incorrect_indexes[current_index]))\n",
    "if actual == prediction:\n",
    "    print(\"Model acuratly predicted: {}\".format(actual))\n",
    "else:\n",
    "    print(\"Model predicted {}, but it was actually {}\".format(prediction, actual))\n",
    "plt.imshow(img)\n",
    "current_index += 1"
   ]
  },
  {
   "cell_type": "code",
   "execution_count": null,
   "metadata": {},
   "outputs": [],
   "source": []
  }
 ],
 "metadata": {
  "kernelspec": {
   "display_name": "py3",
   "language": "python",
   "name": "py3"
  },
  "language_info": {
   "codemirror_mode": {
    "name": "ipython",
    "version": 3
   },
   "file_extension": ".py",
   "mimetype": "text/x-python",
   "name": "python",
   "nbconvert_exporter": "python",
   "pygments_lexer": "ipython3",
   "version": "3.5.5"
  }
 },
 "nbformat": 4,
 "nbformat_minor": 2
}
