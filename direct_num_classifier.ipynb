{
 "cells": [
  {
   "cell_type": "code",
   "execution_count": 1,
   "metadata": {},
   "outputs": [
    {
     "name": "stderr",
     "output_type": "stream",
     "text": [
      "/home/aidan/anaconda3/envs/py3/lib/python3.5/site-packages/h5py/__init__.py:36: FutureWarning: Conversion of the second argument of issubdtype from `float` to `np.floating` is deprecated. In future, it will be treated as `np.float64 == np.dtype(float).type`.\n",
      "  from ._conv import register_converters as _register_converters\n",
      "Using TensorFlow backend.\n"
     ]
    }
   ],
   "source": [
    "from keras.layers import Dense, Input\n",
    "from keras.optimizers import adam\n",
    "from keras.losses import mse, binary_crossentropy\n",
    "from keras.datasets import mnist\n",
    "from keras.models import Model\n",
    "import keras.backend as K\n",
    "from keras.models import load_model\n",
    "from keras.utils import to_categorical\n",
    "\n",
    "import numpy as np\n",
    "import matplotlib.pyplot as plt"
   ]
  },
  {
   "cell_type": "code",
   "execution_count": 2,
   "metadata": {},
   "outputs": [],
   "source": [
    "from numpy.random import seed\n",
    "seed(13)\n",
    "from tensorflow import set_random_seed\n",
    "set_random_seed(13)"
   ]
  },
  {
   "cell_type": "code",
   "execution_count": 3,
   "metadata": {},
   "outputs": [],
   "source": [
    "(x_train, y_train), (x_test, y_test) = mnist.load_data()\n",
    "\n",
    "num_classes = len(set(y_train))\n",
    "y_train = to_categorical(y_train)\n",
    "y_test = to_categorical(y_test)"
   ]
  },
  {
   "cell_type": "code",
   "execution_count": 4,
   "metadata": {},
   "outputs": [],
   "source": [
    "def process(arr):\n",
    "    arr = arr.reshape((arr.shape[0], arr.shape[1] * arr.shape[2]))\n",
    "    arr = arr.astype('float32') / arr.max()\n",
    "    return arr\n",
    "\n",
    "x_train = process(x_train)\n",
    "x_test = process(x_test)"
   ]
  },
  {
   "cell_type": "code",
   "execution_count": 5,
   "metadata": {},
   "outputs": [],
   "source": [
    "input_shape = (x_train.shape[1], )\n",
    "inter_dim = 432\n",
    "latent_dim = 4\n",
    "batch_size = 500\n",
    "epochs = 50"
   ]
  },
  {
   "cell_type": "code",
   "execution_count": 7,
   "metadata": {},
   "outputs": [],
   "source": [
    "c_input = Input(shape=input_shape)\n",
    "c_h = Dense(inter_dim)(c_input)\n",
    "c_h = Dense(inter_dim)(c_h)\n",
    "c_l = Dense(latent_dim)(c_h)\n",
    "c_o = Dense(10)(c_l)\n",
    "\n",
    "classifier = Model(c_input, c_o)"
   ]
  },
  {
   "cell_type": "code",
   "execution_count": 8,
   "metadata": {},
   "outputs": [
    {
     "name": "stdout",
     "output_type": "stream",
     "text": [
      "_________________________________________________________________\n",
      "Layer (type)                 Output Shape              Param #   \n",
      "=================================================================\n",
      "input_2 (InputLayer)         (None, 784)               0         \n",
      "_________________________________________________________________\n",
      "dense_5 (Dense)              (None, 432)               339120    \n",
      "_________________________________________________________________\n",
      "dense_6 (Dense)              (None, 432)               187056    \n",
      "_________________________________________________________________\n",
      "dense_7 (Dense)              (None, 4)                 1732      \n",
      "_________________________________________________________________\n",
      "dense_8 (Dense)              (None, 10)                50        \n",
      "=================================================================\n",
      "Total params: 527,958\n",
      "Trainable params: 527,958\n",
      "Non-trainable params: 0\n",
      "_________________________________________________________________\n"
     ]
    }
   ],
   "source": [
    "classifier.compile(optimizer=\"adam\", loss=\"categorical_crossentropy\", metrics=['mae', 'acc'])\n",
    "classifier.summary()"
   ]
  },
  {
   "cell_type": "code",
   "execution_count": 10,
   "metadata": {},
   "outputs": [
    {
     "name": "stdout",
     "output_type": "stream",
     "text": [
      "Train on 60000 samples, validate on 10000 samples\n",
      "Epoch 1/50\n",
      "60000/60000 [==============================] - 1s 18us/step - loss: 4.5420 - mean_absolute_error: 13.8650 - acc: 0.1328 - val_loss: 3.3615 - val_mean_absolute_error: 16.4905 - val_acc: 0.1135\n",
      "Epoch 2/50\n",
      "60000/60000 [==============================] - 0s 7us/step - loss: 5.1297 - mean_absolute_error: 23.6970 - acc: 0.0857 - val_loss: 10.2427 - val_mean_absolute_error: 25.7765 - val_acc: 0.2059\n",
      "Epoch 3/50\n",
      "60000/60000 [==============================] - 0s 7us/step - loss: 5.3251 - mean_absolute_error: 41.6417 - acc: 0.1254 - val_loss: 7.3592 - val_mean_absolute_error: 46.4316 - val_acc: 0.1236\n",
      "Epoch 4/50\n",
      "60000/60000 [==============================] - 0s 7us/step - loss: 4.2259 - mean_absolute_error: 67.9654 - acc: 0.1271 - val_loss: 5.0248 - val_mean_absolute_error: 147.7945 - val_acc: 0.1046\n",
      "Epoch 5/50\n",
      "60000/60000 [==============================] - 0s 7us/step - loss: 4.8263 - mean_absolute_error: 171.6249 - acc: 0.1096 - val_loss: 4.7774 - val_mean_absolute_error: 174.5402 - val_acc: 0.1721\n",
      "Epoch 6/50\n",
      "60000/60000 [==============================] - 0s 7us/step - loss: 5.0631 - mean_absolute_error: 157.7852 - acc: 0.1177 - val_loss: 5.5980 - val_mean_absolute_error: 145.9159 - val_acc: 0.1027\n",
      "Epoch 7/50\n",
      "60000/60000 [==============================] - 0s 7us/step - loss: 4.9436 - mean_absolute_error: 113.9502 - acc: 0.1392 - val_loss: 4.5924 - val_mean_absolute_error: 103.1752 - val_acc: 0.2022\n",
      "Epoch 8/50\n",
      "60000/60000 [==============================] - 0s 7us/step - loss: 4.4906 - mean_absolute_error: 177.2725 - acc: 0.1988 - val_loss: 3.8212 - val_mean_absolute_error: 216.2261 - val_acc: 0.1842\n",
      "Epoch 9/50\n",
      "60000/60000 [==============================] - 0s 7us/step - loss: 11.7470 - mean_absolute_error: 240.8179 - acc: 0.1670 - val_loss: 12.7965 - val_mean_absolute_error: 418.0186 - val_acc: 0.1028\n",
      "Epoch 10/50\n",
      "60000/60000 [==============================] - 0s 7us/step - loss: 12.2447 - mean_absolute_error: 473.5922 - acc: 0.1044 - val_loss: 11.2182 - val_mean_absolute_error: 575.3757 - val_acc: 0.1028\n",
      "Epoch 11/50\n",
      "60000/60000 [==============================] - 0s 7us/step - loss: 11.2434 - mean_absolute_error: 564.1279 - acc: 0.1044 - val_loss: 11.2182 - val_mean_absolute_error: 576.5057 - val_acc: 0.1028\n",
      "Epoch 12/50\n",
      "60000/60000 [==============================] - 0s 7us/step - loss: 11.2434 - mean_absolute_error: 564.2202 - acc: 0.1044 - val_loss: 11.2182 - val_mean_absolute_error: 576.5057 - val_acc: 0.1028\n",
      "Epoch 13/50\n",
      "60000/60000 [==============================] - 0s 7us/step - loss: 11.2434 - mean_absolute_error: 564.2202 - acc: 0.1044 - val_loss: 11.2182 - val_mean_absolute_error: 576.5057 - val_acc: 0.1028\n",
      "Epoch 14/50\n",
      "60000/60000 [==============================] - 0s 7us/step - loss: 11.2434 - mean_absolute_error: 564.2202 - acc: 0.1044 - val_loss: 11.2182 - val_mean_absolute_error: 576.5057 - val_acc: 0.1028\n",
      "Epoch 15/50\n",
      "60000/60000 [==============================] - 0s 7us/step - loss: 11.2434 - mean_absolute_error: 564.2202 - acc: 0.1044 - val_loss: 11.2182 - val_mean_absolute_error: 576.5057 - val_acc: 0.1028\n",
      "Epoch 16/50\n",
      "60000/60000 [==============================] - 0s 7us/step - loss: 11.2434 - mean_absolute_error: 564.2202 - acc: 0.1044 - val_loss: 11.2182 - val_mean_absolute_error: 576.5057 - val_acc: 0.1028\n",
      "Epoch 17/50\n",
      "60000/60000 [==============================] - 0s 7us/step - loss: 11.2434 - mean_absolute_error: 564.2202 - acc: 0.1044 - val_loss: 11.2182 - val_mean_absolute_error: 576.5057 - val_acc: 0.1028\n",
      "Epoch 18/50\n",
      "60000/60000 [==============================] - 0s 7us/step - loss: 11.2434 - mean_absolute_error: 564.2202 - acc: 0.1044 - val_loss: 11.2182 - val_mean_absolute_error: 576.5057 - val_acc: 0.1028\n",
      "Epoch 19/50\n",
      "60000/60000 [==============================] - 0s 8us/step - loss: 11.2434 - mean_absolute_error: 564.2202 - acc: 0.1044 - val_loss: 11.2182 - val_mean_absolute_error: 576.5057 - val_acc: 0.1028\n",
      "Epoch 20/50\n",
      "60000/60000 [==============================] - 0s 7us/step - loss: 11.2434 - mean_absolute_error: 564.2202 - acc: 0.1044 - val_loss: 11.2182 - val_mean_absolute_error: 576.5057 - val_acc: 0.1028\n",
      "Epoch 21/50\n",
      "60000/60000 [==============================] - 0s 7us/step - loss: 11.2434 - mean_absolute_error: 564.2202 - acc: 0.1044 - val_loss: 11.2182 - val_mean_absolute_error: 576.5057 - val_acc: 0.1028\n",
      "Epoch 22/50\n",
      "60000/60000 [==============================] - 0s 7us/step - loss: 11.2434 - mean_absolute_error: 564.2202 - acc: 0.1044 - val_loss: 11.2182 - val_mean_absolute_error: 576.5057 - val_acc: 0.1028\n",
      "Epoch 23/50\n",
      "60000/60000 [==============================] - 0s 7us/step - loss: 11.2434 - mean_absolute_error: 564.2202 - acc: 0.1044 - val_loss: 11.2182 - val_mean_absolute_error: 576.5057 - val_acc: 0.1028\n",
      "Epoch 24/50\n",
      "60000/60000 [==============================] - 0s 7us/step - loss: 11.2434 - mean_absolute_error: 564.2202 - acc: 0.1044 - val_loss: 11.2182 - val_mean_absolute_error: 576.5057 - val_acc: 0.1028\n",
      "Epoch 25/50\n",
      "60000/60000 [==============================] - 0s 8us/step - loss: 11.2434 - mean_absolute_error: 564.2202 - acc: 0.1044 - val_loss: 11.2182 - val_mean_absolute_error: 576.5057 - val_acc: 0.1028\n",
      "Epoch 26/50\n",
      "60000/60000 [==============================] - 0s 7us/step - loss: 11.2434 - mean_absolute_error: 564.2202 - acc: 0.1044 - val_loss: 11.2182 - val_mean_absolute_error: 576.5057 - val_acc: 0.1028\n",
      "Epoch 27/50\n",
      "60000/60000 [==============================] - 0s 7us/step - loss: 11.2434 - mean_absolute_error: 564.2202 - acc: 0.1044 - val_loss: 11.2182 - val_mean_absolute_error: 576.5057 - val_acc: 0.1028\n",
      "Epoch 28/50\n",
      "60000/60000 [==============================] - 0s 7us/step - loss: 11.2434 - mean_absolute_error: 564.2202 - acc: 0.1044 - val_loss: 11.2182 - val_mean_absolute_error: 576.5057 - val_acc: 0.1028\n",
      "Epoch 29/50\n",
      "60000/60000 [==============================] - 0s 7us/step - loss: 11.2434 - mean_absolute_error: 564.2202 - acc: 0.1044 - val_loss: 11.2182 - val_mean_absolute_error: 576.5057 - val_acc: 0.1028\n",
      "Epoch 30/50\n",
      "60000/60000 [==============================] - 0s 7us/step - loss: 11.2434 - mean_absolute_error: 564.2202 - acc: 0.1044 - val_loss: 11.2182 - val_mean_absolute_error: 576.5057 - val_acc: 0.1028\n",
      "Epoch 31/50\n",
      "60000/60000 [==============================] - 0s 7us/step - loss: 11.2434 - mean_absolute_error: 564.2202 - acc: 0.1044 - val_loss: 11.2182 - val_mean_absolute_error: 576.5057 - val_acc: 0.1028\n",
      "Epoch 32/50\n",
      "60000/60000 [==============================] - 0s 7us/step - loss: 11.2434 - mean_absolute_error: 564.2202 - acc: 0.1044 - val_loss: 11.2182 - val_mean_absolute_error: 576.5057 - val_acc: 0.1028\n",
      "Epoch 33/50\n",
      "60000/60000 [==============================] - 0s 7us/step - loss: 11.2434 - mean_absolute_error: 564.2202 - acc: 0.1044 - val_loss: 11.2182 - val_mean_absolute_error: 576.5057 - val_acc: 0.1028\n",
      "Epoch 34/50\n",
      "60000/60000 [==============================] - 0s 7us/step - loss: 11.2434 - mean_absolute_error: 564.2202 - acc: 0.1044 - val_loss: 11.2182 - val_mean_absolute_error: 576.5057 - val_acc: 0.1028\n",
      "Epoch 35/50\n",
      "60000/60000 [==============================] - 0s 7us/step - loss: 11.2434 - mean_absolute_error: 564.2202 - acc: 0.1044 - val_loss: 11.2182 - val_mean_absolute_error: 576.5057 - val_acc: 0.1028\n",
      "Epoch 36/50\n",
      "60000/60000 [==============================] - 0s 7us/step - loss: 11.2434 - mean_absolute_error: 564.2202 - acc: 0.1044 - val_loss: 11.2182 - val_mean_absolute_error: 576.5057 - val_acc: 0.1028\n",
      "Epoch 37/50\n",
      "60000/60000 [==============================] - 0s 7us/step - loss: 11.2434 - mean_absolute_error: 564.2202 - acc: 0.1044 - val_loss: 11.2182 - val_mean_absolute_error: 576.5057 - val_acc: 0.1028\n",
      "Epoch 38/50\n",
      "60000/60000 [==============================] - 0s 7us/step - loss: 11.2434 - mean_absolute_error: 564.2202 - acc: 0.1044 - val_loss: 11.2182 - val_mean_absolute_error: 576.5057 - val_acc: 0.1028\n",
      "Epoch 39/50\n",
      "60000/60000 [==============================] - 0s 7us/step - loss: 11.2434 - mean_absolute_error: 564.2202 - acc: 0.1044 - val_loss: 11.2182 - val_mean_absolute_error: 576.5057 - val_acc: 0.1028\n",
      "Epoch 40/50\n"
     ]
    },
    {
     "name": "stdout",
     "output_type": "stream",
     "text": [
      "60000/60000 [==============================] - 0s 7us/step - loss: 11.2434 - mean_absolute_error: 564.2202 - acc: 0.1044 - val_loss: 11.2182 - val_mean_absolute_error: 576.5057 - val_acc: 0.1028\n",
      "Epoch 41/50\n",
      "60000/60000 [==============================] - 0s 8us/step - loss: 11.2434 - mean_absolute_error: 564.2202 - acc: 0.1044 - val_loss: 11.2182 - val_mean_absolute_error: 576.5057 - val_acc: 0.1028\n",
      "Epoch 42/50\n",
      "60000/60000 [==============================] - 0s 8us/step - loss: 11.2434 - mean_absolute_error: 564.2202 - acc: 0.1044 - val_loss: 11.2182 - val_mean_absolute_error: 576.5057 - val_acc: 0.1028\n",
      "Epoch 43/50\n",
      "60000/60000 [==============================] - 0s 7us/step - loss: 11.2434 - mean_absolute_error: 564.2202 - acc: 0.1044 - val_loss: 11.2182 - val_mean_absolute_error: 576.5057 - val_acc: 0.1028\n",
      "Epoch 44/50\n",
      "60000/60000 [==============================] - 0s 7us/step - loss: 11.2434 - mean_absolute_error: 564.2202 - acc: 0.1044 - val_loss: 11.2182 - val_mean_absolute_error: 576.5057 - val_acc: 0.1028\n",
      "Epoch 45/50\n",
      "60000/60000 [==============================] - 0s 7us/step - loss: 11.2434 - mean_absolute_error: 564.2202 - acc: 0.1044 - val_loss: 11.2182 - val_mean_absolute_error: 576.5057 - val_acc: 0.1028\n",
      "Epoch 46/50\n",
      "60000/60000 [==============================] - 0s 8us/step - loss: 11.2434 - mean_absolute_error: 564.2202 - acc: 0.1044 - val_loss: 11.2182 - val_mean_absolute_error: 576.5057 - val_acc: 0.1028\n",
      "Epoch 47/50\n",
      "60000/60000 [==============================] - 0s 7us/step - loss: 11.2434 - mean_absolute_error: 564.2202 - acc: 0.1044 - val_loss: 11.2182 - val_mean_absolute_error: 576.5057 - val_acc: 0.1028\n",
      "Epoch 48/50\n",
      "60000/60000 [==============================] - 0s 7us/step - loss: 11.2434 - mean_absolute_error: 564.2202 - acc: 0.1044 - val_loss: 11.2182 - val_mean_absolute_error: 576.5057 - val_acc: 0.1028\n",
      "Epoch 49/50\n",
      "60000/60000 [==============================] - 0s 7us/step - loss: 11.2434 - mean_absolute_error: 564.2202 - acc: 0.1044 - val_loss: 11.2182 - val_mean_absolute_error: 576.5057 - val_acc: 0.1028\n",
      "Epoch 50/50\n",
      "60000/60000 [==============================] - 0s 7us/step - loss: 11.2434 - mean_absolute_error: 564.2202 - acc: 0.1044 - val_loss: 11.2182 - val_mean_absolute_error: 576.5057 - val_acc: 0.1028\n"
     ]
    }
   ],
   "source": [
    "history = classifier.fit(\n",
    "    x_train, y_train,\n",
    "    batch_size=batch_size,\n",
    "    epochs=epochs,\n",
    "    shuffle=True,\n",
    "    validation_data=(x_test, y_test)\n",
    ")"
   ]
  },
  {
   "cell_type": "code",
   "execution_count": 11,
   "metadata": {},
   "outputs": [
    {
     "data": {
      "image/png": "[encoded data removed]",
      "text/plain": [
       "<matplotlib.figure.Figure at 0x7fabddff1748>"
      ]
     },
     "metadata": {},
     "output_type": "display_data"
    },
    {
     "data": {
      "image/png": "[encoded data removed]",
      "text/plain": [
       "<matplotlib.figure.Figure at 0x7fabddfb82b0>"
      ]
     },
     "metadata": {},
     "output_type": "display_data"
    }
   ],
   "source": [
    "plt.plot(history.history['acc'])\n",
    "plt.plot(history.history['val_acc'])\n",
    "plt.title('model accuracy')\n",
    "plt.ylabel('accuracy')\n",
    "plt.xlabel('epoch')\n",
    "plt.legend(['train', 'test'], loc='upper left')\n",
    "plt.show()\n",
    "# summarize history for loss\n",
    "plt.plot(history.history['loss'])\n",
    "plt.plot(history.history['val_loss'])\n",
    "plt.title('model loss')\n",
    "plt.ylabel('loss')\n",
    "plt.xlabel('epoch')\n",
    "plt.legend(['train', 'test'], loc='upper left')\n",
    "plt.show()"
   ]
  },
  {
   "cell_type": "code",
   "execution_count": 14,
   "metadata": {},
   "outputs": [],
   "source": [
    "def predict(index):\n",
    "    img = x_test[index]\n",
    "    actual = list(y_test[index]).index(1)\n",
    "    out = classifier.predict(img.reshape(1, img.shape[0]))[0]\n",
    "    prediction = list(out).index(out.max())\n",
    "    return img.reshape(28, 28), actual, prediction"
   ]
  },
  {
   "cell_type": "code",
   "execution_count": 15,
   "metadata": {},
   "outputs": [],
   "source": [
    "incorrect_indexes = []\n",
    "num_correct = 0\n",
    "for i in range(len(x_test)):\n",
    "    img, actual, prediction = predict(i)\n",
    "    if actual == prediction:\n",
    "        num_correct += 1\n",
    "    else:\n",
    "        incorrect_indexes.append(i)"
   ]
  },
  {
   "cell_type": "code",
   "execution_count": 16,
   "metadata": {},
   "outputs": [
    {
     "name": "stdout",
     "output_type": "stream",
     "text": [
      "Percent Correct: 10.280000000000001\n"
     ]
    }
   ],
   "source": [
    "print(\"Percent Correct: {}\".format((num_correct/len(x_test))*100))"
   ]
  },
  {
   "cell_type": "code",
   "execution_count": null,
   "metadata": {},
   "outputs": [],
   "source": []
  }
 ],
 "metadata": {
  "kernelspec": {
   "display_name": "py3",
   "language": "python",
   "name": "py3"
  },
  "language_info": {
   "codemirror_mode": {
    "name": "ipython",
    "version": 3
   },
   "file_extension": ".py",
   "mimetype": "text/x-python",
   "name": "python",
   "nbconvert_exporter": "python",
   "pygments_lexer": "ipython3",
   "version": "3.5.5"
  }
 },
 "nbformat": 4,
 "nbformat_minor": 2
}
