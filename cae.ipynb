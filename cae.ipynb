{
 "cells": [
  {
   "cell_type": "code",
   "execution_count": 1,
   "metadata": {},
   "outputs": [
    {
     "name": "stderr",
     "output_type": "stream",
     "text": [
      "/home/aidan/anaconda3/envs/py3/lib/python3.5/site-packages/h5py/__init__.py:36: FutureWarning: Conversion of the second argument of issubdtype from `float` to `np.floating` is deprecated. In future, it will be treated as `np.float64 == np.dtype(float).type`.\n",
      "  from ._conv import register_converters as _register_converters\n",
      "Using TensorFlow backend.\n"
     ]
    }
   ],
   "source": [
    "from keras.layers import Dense, Input, Lambda, Conv2D, Reshape\n",
    "from keras.optimizers import adam\n",
    "from keras.losses import mse\n",
    "from keras.datasets import mnist, fashion_mnist\n",
    "from keras.models import Model\n",
    "\n",
    "import numpy as np\n",
    "import matplotlib.pyplot as plt"
   ]
  },
  {
   "cell_type": "code",
   "execution_count": 2,
   "metadata": {},
   "outputs": [],
   "source": [
    "from numpy.random import seed\n",
    "seed(0)\n",
    "from tensorflow import set_random_seed\n",
    "set_random_seed(0)"
   ]
  },
  {
   "cell_type": "code",
   "execution_count": 3,
   "metadata": {},
   "outputs": [],
   "source": [
    "(x_train, y_train), (x_test, y_test) = mnist.load_data()\n",
    "#(x_train, y_train), (x_test, y_test) = fashion_mnist.load_data()"
   ]
  },
  {
   "cell_type": "code",
   "execution_count": 4,
   "metadata": {},
   "outputs": [],
   "source": [
    "def process(arr):\n",
    "    arr = arr.astype('float32') / arr.max()\n",
    "    return arr\n",
    "\n",
    "x_train = process(x_train)\n",
    "x_test = process(x_test)"
   ]
  },
  {
   "cell_type": "code",
   "execution_count": 5,
   "metadata": {},
   "outputs": [],
   "source": [
    "input_shape = (x_train.shape[1], x_train.shape[2])\n",
    "filter_num = 10\n",
    "latent_dim = 3\n",
    "batch_size = 100\n",
    "epochs = 50"
   ]
  },
  {
   "cell_type": "code",
   "execution_count": 6,
   "metadata": {},
   "outputs": [],
   "source": [
    "e_input = Input(shape=input_shape)\n",
    "e_i = Reshape((input_shape[0], input_shape[1], 1))(e_input)\n",
    "e_h = Conv2D(filter_num, (5,5), padding=\"same\", activation=\"relu\")(e_i)\n",
    "e_h = Conv2D(filter_num, (3,3), padding=\"same\", activation=\"relu\")(e_h)\n",
    "e_r = Reshape((28*28*filter_num, ))(e_h)\n",
    "e_m = Dense(latent_dim, activation=\"relu\")(e_r)\n",
    "e_s = Dense(latent_dim, activation=\"relu\")(e_r)"
   ]
  },
  {
   "cell_type": "code",
   "execution_count": 7,
   "metadata": {},
   "outputs": [],
   "source": [
    "def sample(args):\n",
    "    z_mean, z_log_sigma = args\n",
    "    return z_mean + z_log_sigma * 0\n",
    "\n",
    "latent_space = Lambda(sample)([e_m, e_s])"
   ]
  },
  {
   "cell_type": "code",
   "execution_count": 8,
   "metadata": {},
   "outputs": [],
   "source": [
    "d_h = Dense(28*28, activation=\"relu\")(latent_space)\n",
    "d_r = Reshape((28, 28, 1))(d_h)\n",
    "d_h = Conv2D(filter_num, (3, 3), padding=\"same\", activation=\"relu\")(d_h)\n",
    "d_h = Conv2D(filter_num, (5, 5), padding=\"same\", activation=\"relu\")(d_h)\n",
    "d_o = Conv2D(1, (1, 1), activation=\"sigmoid\")(d_h)\n",
    "d_out = Reshape((28, 28))(d_o)"
   ]
  },
  {
   "cell_type": "code",
   "execution_count": 9,
   "metadata": {},
   "outputs": [],
   "source": [
    "cae = Model(e_input, d_out)\n",
    "\n",
    "encoder = Model(e_input, e_m)"
   ]
  },
  {
   "cell_type": "code",
   "execution_count": 10,
   "metadata": {},
   "outputs": [
    {
     "name": "stdout",
     "output_type": "stream",
     "text": [
      "__________________________________________________________________________________________________\n",
      "Layer (type)                    Output Shape         Param #     Connected to                     \n",
      "==================================================================================================\n",
      "input_1 (InputLayer)            (None, 28, 28)       0                                            \n",
      "__________________________________________________________________________________________________\n",
      "reshape_1 (Reshape)             (None, 28, 28, 1)    0           input_1[0][0]                    \n",
      "__________________________________________________________________________________________________\n",
      "conv2d_1 (Conv2D)               (None, 28, 28, 10)   260         reshape_1[0][0]                  \n",
      "__________________________________________________________________________________________________\n",
      "conv2d_2 (Conv2D)               (None, 28, 28, 10)   910         conv2d_1[0][0]                   \n",
      "__________________________________________________________________________________________________\n",
      "conv2d_3 (Conv2D)               (None, 28, 28, 10)   910         conv2d_2[0][0]                   \n",
      "__________________________________________________________________________________________________\n",
      "reshape_2 (Reshape)             (None, 7840)         0           conv2d_3[0][0]                   \n",
      "__________________________________________________________________________________________________\n",
      "dense_1 (Dense)                 (None, 3)            23523       reshape_2[0][0]                  \n",
      "__________________________________________________________________________________________________\n",
      "dense_2 (Dense)                 (None, 3)            23523       reshape_2[0][0]                  \n",
      "__________________________________________________________________________________________________\n",
      "lambda_1 (Lambda)               (None, 3)            0           dense_1[0][0]                    \n",
      "                                                                 dense_2[0][0]                    \n",
      "__________________________________________________________________________________________________\n",
      "dense_3 (Dense)                 (None, 784)          3136        lambda_1[0][0]                   \n",
      "__________________________________________________________________________________________________\n",
      "reshape_3 (Reshape)             (None, 28, 28, 1)    0           dense_3[0][0]                    \n",
      "__________________________________________________________________________________________________\n",
      "conv2d_4 (Conv2D)               (None, 28, 28, 10)   100         reshape_3[0][0]                  \n",
      "__________________________________________________________________________________________________\n",
      "conv2d_5 (Conv2D)               (None, 28, 28, 10)   910         conv2d_4[0][0]                   \n",
      "__________________________________________________________________________________________________\n",
      "conv2d_6 (Conv2D)               (None, 28, 28, 10)   2510        conv2d_5[0][0]                   \n",
      "__________________________________________________________________________________________________\n",
      "conv2d_7 (Conv2D)               (None, 28, 28, 1)    11          conv2d_6[0][0]                   \n",
      "__________________________________________________________________________________________________\n",
      "reshape_4 (Reshape)             (None, 28, 28)       0           conv2d_7[0][0]                   \n",
      "==================================================================================================\n",
      "Total params: 55,793\n",
      "Trainable params: 55,793\n",
      "Non-trainable params: 0\n",
      "__________________________________________________________________________________________________\n"
     ]
    }
   ],
   "source": [
    "cae.compile(optimizer=\"adam\", loss=\"mse\", metrics=['mae', 'acc'])\n",
    "cae.summary()"
   ]
  },
  {
   "cell_type": "code",
   "execution_count": 11,
   "metadata": {
    "scrolled": true
   },
   "outputs": [
    {
     "name": "stdout",
     "output_type": "stream",
     "text": [
      "Train on 60000 samples, validate on 10000 samples\n",
      "Epoch 1/50\n",
      "60000/60000 [==============================] - 8s 133us/step - loss: 0.0757 - mean_absolute_error: 0.1629 - acc: 0.0955 - val_loss: 0.0618 - val_mean_absolute_error: 0.1361 - val_acc: 0.0763\n",
      "Epoch 2/50\n",
      "60000/60000 [==============================] - 7s 117us/step - loss: 0.0613 - mean_absolute_error: 0.1352 - acc: 0.0766 - val_loss: 0.0610 - val_mean_absolute_error: 0.1344 - val_acc: 0.0789\n",
      "Epoch 3/50\n",
      "60000/60000 [==============================] - 7s 116us/step - loss: 0.0608 - mean_absolute_error: 0.1345 - acc: 0.0806 - val_loss: 0.0606 - val_mean_absolute_error: 0.1364 - val_acc: 0.0835\n",
      "Epoch 4/50\n",
      "60000/60000 [==============================] - 7s 118us/step - loss: 0.0605 - mean_absolute_error: 0.1339 - acc: 0.0812 - val_loss: 0.0603 - val_mean_absolute_error: 0.1356 - val_acc: 0.0816\n",
      "Epoch 5/50\n",
      "60000/60000 [==============================] - 7s 116us/step - loss: 0.0602 - mean_absolute_error: 0.1333 - acc: 0.0832 - val_loss: 0.0601 - val_mean_absolute_error: 0.1319 - val_acc: 0.0883\n",
      "Epoch 6/50\n",
      "60000/60000 [==============================] - 7s 115us/step - loss: 0.0599 - mean_absolute_error: 0.1328 - acc: 0.0872 - val_loss: 0.0597 - val_mean_absolute_error: 0.1319 - val_acc: 0.0901\n",
      "Epoch 7/50\n",
      "60000/60000 [==============================] - 7s 115us/step - loss: 0.0597 - mean_absolute_error: 0.1324 - acc: 0.0894 - val_loss: 0.0594 - val_mean_absolute_error: 0.1328 - val_acc: 0.0903\n",
      "Epoch 8/50\n",
      "60000/60000 [==============================] - 7s 113us/step - loss: 0.0594 - mean_absolute_error: 0.1320 - acc: 0.0912 - val_loss: 0.0591 - val_mean_absolute_error: 0.1320 - val_acc: 0.0934\n",
      "Epoch 9/50\n",
      "60000/60000 [==============================] - 7s 115us/step - loss: 0.0592 - mean_absolute_error: 0.1316 - acc: 0.0920 - val_loss: 0.0589 - val_mean_absolute_error: 0.1327 - val_acc: 0.0964\n",
      "Epoch 10/50\n",
      "60000/60000 [==============================] - 7s 114us/step - loss: 0.0590 - mean_absolute_error: 0.1312 - acc: 0.0952 - val_loss: 0.0589 - val_mean_absolute_error: 0.1331 - val_acc: 0.0993\n",
      "Epoch 11/50\n",
      "60000/60000 [==============================] - 7s 115us/step - loss: 0.0588 - mean_absolute_error: 0.1309 - acc: 0.0985 - val_loss: 0.0585 - val_mean_absolute_error: 0.1300 - val_acc: 0.1028\n",
      "Epoch 12/50\n",
      "60000/60000 [==============================] - 7s 116us/step - loss: 0.0586 - mean_absolute_error: 0.1306 - acc: 0.0994 - val_loss: 0.0585 - val_mean_absolute_error: 0.1282 - val_acc: 0.1003\n",
      "Epoch 13/50\n",
      "60000/60000 [==============================] - 7s 116us/step - loss: 0.0585 - mean_absolute_error: 0.1303 - acc: 0.0977 - val_loss: 0.0582 - val_mean_absolute_error: 0.1288 - val_acc: 0.0991\n",
      "Epoch 14/50\n",
      "60000/60000 [==============================] - 7s 115us/step - loss: 0.0583 - mean_absolute_error: 0.1300 - acc: 0.0986 - val_loss: 0.0580 - val_mean_absolute_error: 0.1297 - val_acc: 0.1023\n",
      "Epoch 15/50\n",
      "60000/60000 [==============================] - 7s 113us/step - loss: 0.0582 - mean_absolute_error: 0.1298 - acc: 0.1002 - val_loss: 0.0579 - val_mean_absolute_error: 0.1306 - val_acc: 0.1015\n",
      "Epoch 16/50\n",
      "60000/60000 [==============================] - 7s 114us/step - loss: 0.0580 - mean_absolute_error: 0.1294 - acc: 0.1012 - val_loss: 0.0577 - val_mean_absolute_error: 0.1284 - val_acc: 0.1057\n",
      "Epoch 17/50\n",
      "60000/60000 [==============================] - 7s 115us/step - loss: 0.0579 - mean_absolute_error: 0.1292 - acc: 0.1016 - val_loss: 0.0576 - val_mean_absolute_error: 0.1278 - val_acc: 0.1036\n",
      "Epoch 18/50\n",
      "60000/60000 [==============================] - 7s 115us/step - loss: 0.0578 - mean_absolute_error: 0.1289 - acc: 0.1019 - val_loss: 0.0576 - val_mean_absolute_error: 0.1316 - val_acc: 0.1078\n",
      "Epoch 19/50\n",
      "60000/60000 [==============================] - 7s 114us/step - loss: 0.0577 - mean_absolute_error: 0.1287 - acc: 0.1024 - val_loss: 0.0574 - val_mean_absolute_error: 0.1271 - val_acc: 0.1051\n",
      "Epoch 20/50\n",
      "60000/60000 [==============================] - 7s 118us/step - loss: 0.0576 - mean_absolute_error: 0.1285 - acc: 0.1030 - val_loss: 0.0573 - val_mean_absolute_error: 0.1289 - val_acc: 0.1061\n",
      "Epoch 21/50\n",
      "60000/60000 [==============================] - 7s 114us/step - loss: 0.0575 - mean_absolute_error: 0.1283 - acc: 0.1039 - val_loss: 0.0571 - val_mean_absolute_error: 0.1275 - val_acc: 0.1071\n",
      "Epoch 22/50\n",
      "60000/60000 [==============================] - 7s 115us/step - loss: 0.0574 - mean_absolute_error: 0.1281 - acc: 0.1045 - val_loss: 0.0572 - val_mean_absolute_error: 0.1302 - val_acc: 0.1113\n",
      "Epoch 23/50\n",
      "60000/60000 [==============================] - 7s 117us/step - loss: 0.0573 - mean_absolute_error: 0.1279 - acc: 0.1052 - val_loss: 0.0572 - val_mean_absolute_error: 0.1255 - val_acc: 0.1062\n",
      "Epoch 24/50\n",
      "60000/60000 [==============================] - 7s 115us/step - loss: 0.0573 - mean_absolute_error: 0.1277 - acc: 0.1055 - val_loss: 0.0571 - val_mean_absolute_error: 0.1259 - val_acc: 0.1070\n",
      "Epoch 25/50\n",
      "60000/60000 [==============================] - 7s 115us/step - loss: 0.0572 - mean_absolute_error: 0.1275 - acc: 0.1060 - val_loss: 0.0572 - val_mean_absolute_error: 0.1307 - val_acc: 0.1074\n",
      "Epoch 26/50\n",
      "60000/60000 [==============================] - 7s 118us/step - loss: 0.0571 - mean_absolute_error: 0.1274 - acc: 0.1061 - val_loss: 0.0574 - val_mean_absolute_error: 0.1303 - val_acc: 0.1101\n",
      "Epoch 27/50\n",
      "60000/60000 [==============================] - 7s 114us/step - loss: 0.0570 - mean_absolute_error: 0.1272 - acc: 0.1070 - val_loss: 0.0568 - val_mean_absolute_error: 0.1280 - val_acc: 0.1167\n",
      "Epoch 28/50\n",
      "60000/60000 [==============================] - 7s 114us/step - loss: 0.0570 - mean_absolute_error: 0.1270 - acc: 0.1138 - val_loss: 0.0568 - val_mean_absolute_error: 0.1257 - val_acc: 0.1120\n",
      "Epoch 29/50\n",
      "60000/60000 [==============================] - 7s 114us/step - loss: 0.0569 - mean_absolute_error: 0.1269 - acc: 0.1167 - val_loss: 0.0565 - val_mean_absolute_error: 0.1256 - val_acc: 0.1134\n",
      "Epoch 30/50\n",
      "60000/60000 [==============================] - 7s 117us/step - loss: 0.0568 - mean_absolute_error: 0.1267 - acc: 0.1116 - val_loss: 0.0566 - val_mean_absolute_error: 0.1260 - val_acc: 0.1129\n",
      "Epoch 31/50\n",
      "60000/60000 [==============================] - 7s 117us/step - loss: 0.0568 - mean_absolute_error: 0.1265 - acc: 0.1111 - val_loss: 0.0565 - val_mean_absolute_error: 0.1286 - val_acc: 0.1194\n",
      "Epoch 32/50\n",
      "60000/60000 [==============================] - 7s 118us/step - loss: 0.0567 - mean_absolute_error: 0.1264 - acc: 0.1151 - val_loss: 0.0568 - val_mean_absolute_error: 0.1305 - val_acc: 0.1308\n",
      "Epoch 33/50\n",
      "60000/60000 [==============================] - 7s 116us/step - loss: 0.0566 - mean_absolute_error: 0.1262 - acc: 0.1209 - val_loss: 0.0569 - val_mean_absolute_error: 0.1232 - val_acc: 0.1356\n",
      "Epoch 34/50\n",
      "60000/60000 [==============================] - 7s 116us/step - loss: 0.0566 - mean_absolute_error: 0.1261 - acc: 0.1255 - val_loss: 0.0563 - val_mean_absolute_error: 0.1247 - val_acc: 0.1347\n",
      "Epoch 35/50\n",
      "60000/60000 [==============================] - 7s 117us/step - loss: 0.0565 - mean_absolute_error: 0.1259 - acc: 0.1231 - val_loss: 0.0562 - val_mean_absolute_error: 0.1255 - val_acc: 0.1281\n",
      "Epoch 36/50\n",
      "60000/60000 [==============================] - 7s 115us/step - loss: 0.0564 - mean_absolute_error: 0.1258 - acc: 0.1291 - val_loss: 0.0561 - val_mean_absolute_error: 0.1258 - val_acc: 0.1368\n",
      "Epoch 37/50\n",
      "60000/60000 [==============================] - 7s 114us/step - loss: 0.0564 - mean_absolute_error: 0.1258 - acc: 0.1355 - val_loss: 0.0562 - val_mean_absolute_error: 0.1243 - val_acc: 0.1433\n",
      "Epoch 38/50\n",
      "60000/60000 [==============================] - 7s 116us/step - loss: 0.0563 - mean_absolute_error: 0.1256 - acc: 0.1386 - val_loss: 0.0560 - val_mean_absolute_error: 0.1245 - val_acc: 0.1392\n",
      "Epoch 39/50\n",
      "60000/60000 [==============================] - 7s 118us/step - loss: 0.0563 - mean_absolute_error: 0.1255 - acc: 0.1404 - val_loss: 0.0560 - val_mean_absolute_error: 0.1256 - val_acc: 0.1478\n",
      "Epoch 40/50\n",
      "60000/60000 [==============================] - 7s 119us/step - loss: 0.0563 - mean_absolute_error: 0.1254 - acc: 0.1403 - val_loss: 0.0561 - val_mean_absolute_error: 0.1243 - val_acc: 0.1426\n",
      "Epoch 41/50\n"
     ]
    },
    {
     "name": "stdout",
     "output_type": "stream",
     "text": [
      "60000/60000 [==============================] - 7s 118us/step - loss: 0.0562 - mean_absolute_error: 0.1253 - acc: 0.1408 - val_loss: 0.0560 - val_mean_absolute_error: 0.1253 - val_acc: 0.1421\n",
      "Epoch 42/50\n",
      "60000/60000 [==============================] - 7s 117us/step - loss: 0.0563 - mean_absolute_error: 0.1253 - acc: 0.1401 - val_loss: 0.0559 - val_mean_absolute_error: 0.1252 - val_acc: 0.1414\n",
      "Epoch 43/50\n",
      "60000/60000 [==============================] - 7s 118us/step - loss: 0.0561 - mean_absolute_error: 0.1251 - acc: 0.1422 - val_loss: 0.0559 - val_mean_absolute_error: 0.1266 - val_acc: 0.1437\n",
      "Epoch 44/50\n",
      "60000/60000 [==============================] - 7s 115us/step - loss: 0.0561 - mean_absolute_error: 0.1250 - acc: 0.1410 - val_loss: 0.0562 - val_mean_absolute_error: 0.1221 - val_acc: 0.1409\n",
      "Epoch 45/50\n",
      "60000/60000 [==============================] - 7s 113us/step - loss: 0.0561 - mean_absolute_error: 0.1249 - acc: 0.1426 - val_loss: 0.0560 - val_mean_absolute_error: 0.1277 - val_acc: 0.1491\n",
      "Epoch 46/50\n",
      "60000/60000 [==============================] - 7s 115us/step - loss: 0.0560 - mean_absolute_error: 0.1248 - acc: 0.1427 - val_loss: 0.0558 - val_mean_absolute_error: 0.1261 - val_acc: 0.1475\n",
      "Epoch 47/50\n",
      "60000/60000 [==============================] - 7s 118us/step - loss: 0.0560 - mean_absolute_error: 0.1247 - acc: 0.1467 - val_loss: 0.0559 - val_mean_absolute_error: 0.1229 - val_acc: 0.1425\n",
      "Epoch 48/50\n",
      "60000/60000 [==============================] - 7s 117us/step - loss: 0.0560 - mean_absolute_error: 0.1247 - acc: 0.1493 - val_loss: 0.0559 - val_mean_absolute_error: 0.1278 - val_acc: 0.1461\n",
      "Epoch 49/50\n",
      "60000/60000 [==============================] - 7s 117us/step - loss: 0.0559 - mean_absolute_error: 0.1246 - acc: 0.1410 - val_loss: 0.0557 - val_mean_absolute_error: 0.1256 - val_acc: 0.1457\n",
      "Epoch 50/50\n",
      "60000/60000 [==============================] - 7s 116us/step - loss: 0.0560 - mean_absolute_error: 0.1245 - acc: 0.1424 - val_loss: 0.0561 - val_mean_absolute_error: 0.1268 - val_acc: 0.1476\n"
     ]
    }
   ],
   "source": [
    "history = cae.fit(x_train, x_train,\n",
    "        batch_size=batch_size,\n",
    "        epochs=epochs,\n",
    "        shuffle=True,\n",
    "        validation_data=(x_test, x_test)\n",
    "      )"
   ]
  },
  {
   "cell_type": "code",
   "execution_count": 12,
   "metadata": {},
   "outputs": [
    {
     "data": {
      "image/png": "[encoded data removed]",
      "text/plain": [
       "<matplotlib.figure.Figure at 0x7f0b2c1367b8>"
      ]
     },
     "metadata": {},
     "output_type": "display_data"
    },
    {
     "data": {
      "image/png": "[encoded data removed]",
      "text/plain": [
       "<matplotlib.figure.Figure at 0x7f0b2c13a470>"
      ]
     },
     "metadata": {},
     "output_type": "display_data"
    }
   ],
   "source": [
    "plt.plot(history.history['acc'])\n",
    "plt.plot(history.history['val_acc'])\n",
    "plt.title('model accuracy')\n",
    "plt.ylabel('accuracy')\n",
    "plt.xlabel('epoch')\n",
    "plt.legend(['train', 'test'], loc='upper left')\n",
    "plt.show()\n",
    "# summarize history for loss\n",
    "plt.plot(history.history['loss'])\n",
    "plt.plot(history.history['val_loss'])\n",
    "plt.title('model loss')\n",
    "plt.ylabel('loss')\n",
    "plt.xlabel('epoch')\n",
    "plt.legend(['train', 'test'], loc='upper left')\n",
    "plt.show()"
   ]
  },
  {
   "cell_type": "code",
   "execution_count": 13,
   "metadata": {},
   "outputs": [
    {
     "data": {
      "image/png": "[encoded data removed]",
      "text/plain": [
       "<matplotlib.figure.Figure at 0x7f0b2c05f0b8>"
      ]
     },
     "metadata": {},
     "output_type": "display_data"
    }
   ],
   "source": [
    "class_map_fashion = {\n",
    "    0: \"T-Shirt\",\n",
    "    1: \"Pants\",\n",
    "    2: \"Sweater\",\n",
    "    3: \"Dress\",\n",
    "    4: \"Jacket\",\n",
    "    5: \"Sandal\",\n",
    "    6: \"Shirt\",\n",
    "    7: \"Sneaker\",\n",
    "    8: \"Bag\",\n",
    "    9: \"Shoe\"\n",
    "}\n",
    "\n",
    "class_map_numbers = {\n",
    "    0: \"0\",\n",
    "    1: \"1\",\n",
    "    2: \"2\",\n",
    "    3: \"3\",\n",
    "    4: \"4\",\n",
    "    5: \"5\",\n",
    "    6: \"6\",\n",
    "    7: \"7\",\n",
    "    8: \"8\",\n",
    "    9: \"9\"\n",
    "}\n",
    "\n",
    "class_map = class_map_numbers\n",
    "\n",
    "index_map = {\n",
    "    class_map[0]: [],\n",
    "    class_map[1]: [],\n",
    "    class_map[2]: [],\n",
    "    class_map[3]: [],\n",
    "    class_map[4]: [],\n",
    "    class_map[5]: [],\n",
    "    class_map[6]: [],\n",
    "    class_map[7]: [],\n",
    "    class_map[8]: [],\n",
    "    class_map[9]: []\n",
    "}\n",
    "\n",
    "color_map = {\n",
    "    class_map[0]: \"#ff0000\",\n",
    "    class_map[1]: \"#ff33cc\",\n",
    "    class_map[2]: \"#6600ff\",\n",
    "    class_map[3]: \"#0000ff\",\n",
    "    class_map[4]: \"#0099cc\",\n",
    "    class_map[5]: \"#00ff99\",\n",
    "    class_map[6]: \"#ffccff\",\n",
    "    class_map[7]: \"#003300\",\n",
    "    class_map[8]: \"#ffff00\",\n",
    "    class_map[9]: \"#996600\"\n",
    "}\n",
    "\n",
    "x_test_encoded = encoder.predict(x_test, batch_size=batch_size)\n",
    "for index, i in enumerate(y_test):\n",
    "    elem_class = class_map[i]\n",
    "    elem_list = index_map[elem_class]\n",
    "    elem_list.append(index)\n",
    "\n",
    "fig, ax = plt.subplots(figsize=(15, 15))\n",
    "for elem_class in index_map:\n",
    "    elems = np.array([x_test_encoded[i] for i in index_map[elem_class]])\n",
    "    ax.scatter(elems[:, 0], elems[:, 1], c=color_map[elem_class], label=elem_class)\n",
    "    \n",
    "ax.legend()\n",
    "plt.show()"
   ]
  },
  {
   "cell_type": "code",
   "execution_count": 14,
   "metadata": {},
   "outputs": [
    {
     "name": "stdout",
     "output_type": "stream",
     "text": [
      "(28, 28)\n"
     ]
    }
   ],
   "source": [
    "test = 8\n",
    "img = x_test[test]\n",
    "print(img.shape)"
   ]
  },
  {
   "cell_type": "code",
   "execution_count": 15,
   "metadata": {},
   "outputs": [
    {
     "data": {
      "text/plain": [
       "<matplotlib.image.AxesImage at 0x7f0b2536d828>"
      ]
     },
     "execution_count": 15,
     "metadata": {},
     "output_type": "execute_result"
    },
    {
     "data": {
      "image/png": "[encoded data removed]",
      "text/plain": [
       "<matplotlib.figure.Figure at 0x7f0b2c120b38>"
      ]
     },
     "metadata": {},
     "output_type": "display_data"
    }
   ],
   "source": [
    "plt.imshow(img.reshape(28, 28))"
   ]
  },
  {
   "cell_type": "code",
   "execution_count": 16,
   "metadata": {},
   "outputs": [
    {
     "data": {
      "text/plain": [
       "<matplotlib.image.AxesImage at 0x7f0b1879bcc0>"
      ]
     },
     "execution_count": 16,
     "metadata": {},
     "output_type": "execute_result"
    },
    {
     "data": {
      "image/png": "[encoded data removed]",
      "text/plain": [
       "<matplotlib.figure.Figure at 0x7f0b2c138710>"
      ]
     },
     "metadata": {},
     "output_type": "display_data"
    }
   ],
   "source": [
    "pred = cae.predict(img.reshape(1, 28, 28))\n",
    "plt.imshow(pred.reshape(28, 28))"
   ]
  },
  {
   "cell_type": "code",
   "execution_count": null,
   "metadata": {},
   "outputs": [],
   "source": []
  }
 ],
 "metadata": {
  "kernelspec": {
   "display_name": "py3",
   "language": "python",
   "name": "py3"
  },
  "language_info": {
   "codemirror_mode": {
    "name": "ipython",
    "version": 3
   },
   "file_extension": ".py",
   "mimetype": "text/x-python",
   "name": "python",
   "nbconvert_exporter": "python",
   "pygments_lexer": "ipython3",
   "version": "3.5.5"
  }
 },
 "nbformat": 4,
 "nbformat_minor": 2
}
